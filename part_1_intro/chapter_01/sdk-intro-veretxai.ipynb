{
 "cells": [
  {
   "cell_type": "markdown",
   "metadata": {},
   "source": [
    "# Google Gemini SDK Introduction\n",
    "\n",
    "This notebook demonstrates how to use the Google Gemini AI SDK to interact with the Gemini model in both text and audio modes.\n",
    "\n",
    "## Setup\n",
    "First, we'll install the required package and initialize the client with our API key."
   ]
  },
  {
   "cell_type": "code",
   "execution_count": 1,
   "metadata": {},
   "outputs": [],
   "source": [
    "!pip install -U -q google-genai"
   ]
  },
  {
   "cell_type": "code",
   "execution_count": 4,
   "metadata": {},
   "outputs": [],
   "source": [
    "from google import genai\n",
    "# client = genai.Client(vertexai=True, location='us-central1', http_options= {'api_version': 'v1beta'})"
   ]
  },
  {
   "cell_type": "markdown",
   "metadata": {},
   "source": [
    "## Text Interaction Example\n",
    "\n",
    "Below we'll demonstrate how to have a text conversation with Gemini. The code:\n",
    "1. Sets up a configuration for text responses\n",
    "2. Opens an async connection to the model\n",
    "3. Sends a message and receives the response in chunks\n",
    "4. Prints each chunk of the response as it arrives"
   ]
  },
  {
   "cell_type": "code",
   "execution_count": 5,
   "metadata": {},
   "outputs": [],
   "source": [
    "!export GOOGLE_CLOUD_PROJECT=heikohotz-genai-sa\n",
    "!export GOOGLE_CLOUD_LOCATION=us-central1\n",
    "!export GOOGLE_GENAI_USE_VERTEXAI=True"
   ]
  },
  {
   "cell_type": "code",
   "execution_count": 6,
   "metadata": {},
   "outputs": [],
   "source": [
    "model_id = \"gemini-2.0-flash-exp\""
   ]
  },
  {
   "cell_type": "code",
   "execution_count": 8,
   "metadata": {},
   "outputs": [
    {
     "name": "stdout",
     "output_type": "stream",
     "text": [
      ">  Hello? Gemini, are you there? \n",
      "\n",
      "Yes\n",
      ", I am here. What would you like to talk about?\n",
      "\n",
      "None\n"
     ]
    }
   ],
   "source": [
    "client = genai.Client(vertexai=True, location='us-central1', project='heikohotz-genai-sa')\n",
    "model_id = \"gemini-2.0-flash-exp\"\n",
    "config = {\"response_modalities\": [\"TEXT\"]}\n",
    "\n",
    "async with client.aio.live.connect(model=model_id, config=config) as session:\n",
    "    message = \"Hello? Gemini, are you there?\"\n",
    "    print(\"> \", message, \"\\n\")\n",
    "    await session.send(message, end_of_turn=True)\n",
    "\n",
    "    async for response in session.receive():\n",
    "        print(response.text)"
   ]
  },
  {
   "cell_type": "code",
   "execution_count": null,
   "metadata": {},
   "outputs": [],
   "source": [
    "config={\n",
    "    \"generation_config\": {\"response_modalities\": [\"TEXT\"]}}\n",
    "\n",
    "async with client.aio.live.connect(model=MODEL, config=config) as session:\n",
    "  message = \"Hello? Gemini are you there?\"\n",
    "  print(\"> \", message, \"\\n\")\n",
    "  await session.send(message, end_of_turn=True)\n",
    "\n",
    "  # For text responses, When the model's turn is complete it breaks out of the loop.\n",
    "  turn = session.receive()\n",
    "  async for chunk in turn:\n",
    "    if chunk.text is not None:\n",
    "      print(f'- {chunk.text}')"
   ]
  },
  {
   "cell_type": "markdown",
   "metadata": {},
   "source": [
    "## Audio Generation Example\n",
    "\n",
    "Now we'll see how to generate audio responses from Gemini. This section:\n",
    "1. Creates a wave file handler to save the audio\n",
    "2. Configures the model for audio output\n",
    "3. Sends a text prompt and receives audio data\n",
    "4. Saves the audio chunks and plays them in the notebook\n",
    "\n",
    "Note: Make sure your browser's audio is enabled to hear the responses."
   ]
  },
  {
   "cell_type": "code",
   "execution_count": 5,
   "metadata": {},
   "outputs": [],
   "source": [
    "import contextlib\n",
    "import wave\n",
    "\n",
    "\n",
    "@contextlib.contextmanager\n",
    "def wave_file(filename, channels=1, rate=24000, sample_width=2):\n",
    "    with wave.open(filename, \"wb\") as wf:\n",
    "        wf.setnchannels(channels)\n",
    "        wf.setsampwidth(sample_width)\n",
    "        wf.setframerate(rate)\n",
    "        yield wf"
   ]
  },
  {
   "cell_type": "code",
   "execution_count": null,
   "metadata": {},
   "outputs": [],
   "source": [
    "from IPython.display import display, Audio\n",
    "\n",
    "config={\n",
    "    \"generation_config\": {\"response_modalities\": [\"AUDIO\"]}}\n",
    "\n",
    "async with client.aio.live.connect(model=MODEL, config=config) as session:\n",
    "  file_name = 'audio.wav'\n",
    "  with wave_file(file_name) as wav:\n",
    "    message = \"Hello? Gemini are you there?\"\n",
    "    print(\"> \", message, \"\\n\")\n",
    "    await session.send(message, end_of_turn=True)\n",
    "\n",
    "    first = True\n",
    "    async for response in session.receive():\n",
    "      if response.data is not None:\n",
    "        model_turn = response.server_content.model_turn\n",
    "        if first:\n",
    "          print(model_turn.parts[0].inline_data.mime_type)\n",
    "          first = False\n",
    "        print('.', end='.')\n",
    "        wav.writeframes(response.data)\n",
    "\n",
    "\n",
    "display(Audio(file_name, autoplay=True))"
   ]
  },
  {
   "cell_type": "code",
   "execution_count": null,
   "metadata": {},
   "outputs": [],
   "source": []
  }
 ],
 "metadata": {
  "kernelspec": {
   "display_name": ".venv",
   "language": "python",
   "name": "python3"
  },
  "language_info": {
   "codemirror_mode": {
    "name": "ipython",
    "version": 3
   },
   "file_extension": ".py",
   "mimetype": "text/x-python",
   "name": "python",
   "nbconvert_exporter": "python",
   "pygments_lexer": "ipython3",
   "version": "3.13.1"
  }
 },
 "nbformat": 4,
 "nbformat_minor": 2
}
